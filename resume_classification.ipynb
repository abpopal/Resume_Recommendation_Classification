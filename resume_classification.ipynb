{
 "cells": [
  {
   "cell_type": "code",
   "execution_count": 1,
   "metadata": {},
   "outputs": [
    {
     "ename": "ModuleNotFoundError",
     "evalue": "No module named 'docx2txt'",
     "output_type": "error",
     "traceback": [
      "\u001b[1;31m---------------------------------------------------------------------------\u001b[0m",
      "\u001b[1;31mModuleNotFoundError\u001b[0m                       Traceback (most recent call last)",
      "\u001b[1;32m<ipython-input-1-0160f88c5db7>\u001b[0m in \u001b[0;36m<module>\u001b[1;34m\u001b[0m\n\u001b[1;32m----> 1\u001b[1;33m \u001b[1;32mimport\u001b[0m \u001b[0mdocx2txt\u001b[0m\u001b[1;33m\u001b[0m\u001b[1;33m\u001b[0m\u001b[0m\n\u001b[0m",
      "\u001b[1;31mModuleNotFoundError\u001b[0m: No module named 'docx2txt'"
     ]
    }
   ],
   "source": [
    "import docx2txt\n"
   ]
  },
  {
   "cell_type": "code",
   "execution_count": 2,
   "metadata": {},
   "outputs": [],
   "source": [
    "import pandas"
   ]
  },
  {
   "cell_type": "code",
   "execution_count": 5,
   "metadata": {},
   "outputs": [
    {
     "name": "stdout",
     "output_type": "stream",
     "text": [
      "Requirement already satisfied: docx2txt in c:\\programdata\\anaconda3\\lib\\site-packages (0.8)\n",
      "Note: you may need to restart the kernel to use updated packages.\n"
     ]
    }
   ],
   "source": [
    "pip install docx2txt"
   ]
  },
  {
   "cell_type": "code",
   "execution_count": 6,
   "metadata": {},
   "outputs": [],
   "source": [
    "import docx2txt"
   ]
  },
  {
   "cell_type": "code",
   "execution_count": 7,
   "metadata": {},
   "outputs": [
    {
     "ename": "ModuleNotFoundError",
     "evalue": "No module named 'google'",
     "output_type": "error",
     "traceback": [
      "\u001b[1;31m---------------------------------------------------------------------------\u001b[0m",
      "\u001b[1;31mModuleNotFoundError\u001b[0m                       Traceback (most recent call last)",
      "\u001b[1;32m<ipython-input-7-e7e4d1e3c2f5>\u001b[0m in \u001b[0;36m<module>\u001b[1;34m\u001b[0m\n\u001b[1;32m----> 1\u001b[1;33m \u001b[1;32mfrom\u001b[0m \u001b[0mgoogle\u001b[0m\u001b[1;33m.\u001b[0m\u001b[0mcolab\u001b[0m \u001b[1;32mimport\u001b[0m \u001b[0mfiles\u001b[0m\u001b[1;33m\u001b[0m\u001b[1;33m\u001b[0m\u001b[0m\n\u001b[0m\u001b[0;32m      2\u001b[0m \u001b[0muploaded\u001b[0m \u001b[1;33m=\u001b[0m \u001b[0mfiles\u001b[0m\u001b[1;33m.\u001b[0m\u001b[0muploaded\u001b[0m\u001b[1;33m(\u001b[0m\u001b[1;33m)\u001b[0m\u001b[1;33m\u001b[0m\u001b[1;33m\u001b[0m\u001b[0m\n",
      "\u001b[1;31mModuleNotFoundError\u001b[0m: No module named 'google'"
     ]
    }
   ],
   "source": [
    "from google.colab import files\n",
    "uploaded = files.uploaded()"
   ]
  },
  {
   "cell_type": "code",
   "execution_count": 8,
   "metadata": {},
   "outputs": [],
   "source": [
    "resume = docx2txt.process('resume.docx')"
   ]
  },
  {
   "cell_type": "code",
   "execution_count": 9,
   "metadata": {},
   "outputs": [
    {
     "name": "stdout",
     "output_type": "stream",
     "text": [
      "Email: maria123@gmail.com\n",
      "Phone: (555)-555-5555\n",
      "\n",
      "\n",
      "\n",
      "CAREER SUMMARY\n",
      "\n",
      "Around 3 Years of experience in Analysis, Design, Development, Management and Validation of various stand-alone and client-server applications.\n",
      "\n",
      "2+ years of experience in implementing Object-Oriented Python, Hash Tables (Dictionaries) and Multi threading.\n",
      "\n",
      "Experience in installing software using pip command for python libraries and extensive usage of the PEP8 coding convention.\n",
      "\n",
      "Good understanding on Django ORM and SQLAlchemy.\n",
      "\n",
      "Experienced in interfacing with third party API’s using REST and SOAP\n",
      "\n",
      "Worked with varieties of Relational Databases (RDBMS) like SQLite, MySQL and PostgreSQL.\n",
      "\n",
      "Experienced in writing SubQueries, Triggers, Cursors, Stored Procedures and Functions.\n",
      "\n",
      "Proficient knowledge of Web services like Google Cloud and Amazon AWS Services.\n",
      "\n",
      "Good Knowledge on Linux and Shell Scripting.\n",
      "\n",
      "Experienced in developing web-based applications using Python, PHP, XML, JSON and MVC3\n",
      "\n",
      "Well versed in design and development of presentation layer for web applications using technologies like HTML,CSS, JavaScript, JQuery, AJAX and Bootstrap.\n",
      "\n",
      "EDUCATION\n",
      "\n",
      "Course (Stream)/ Examination\n",
      "\n",
      "Institution/University/School\n",
      "\n",
      "Year of Passing\n",
      "\n",
      "Performance\n",
      "\n",
      "B.E\n",
      "\n",
      "Tagore College of Engineering and Technology – Chennai\n",
      "\n",
      "2015\n",
      "\n",
      "90%\n",
      "\n",
      "HSC\n",
      "\n",
      "Scread Higher Secondary School\n",
      "\n",
      "2009\n",
      "\n",
      "84%\n",
      "\n",
      "SSLC\n",
      "\n",
      "ST.Marry Higher Secondary School\n",
      "\n",
      "2007\n",
      "\n",
      "80%\n",
      "\n",
      "SKILLS\n",
      "\n",
      "AJAX (1 year)\n",
      "\n",
      "CSS (1 year)\n",
      "\n",
      "HTML (1 year)\n",
      "\n",
      "JAVASCRIPT (1 year)\n",
      "\n",
      "MYSQL (1 year)\n",
      "\n",
      "WORK EXPERIENCE\n",
      "\n",
      "1.) Python Developer\n",
      "\n",
      "Tata Consultancy Services – October 2015 to December 2016\n",
      "\n",
      "Responsibilities: \n",
      "\n",
      "Involved in building database model, APIs and views utilizing Python, in order to build an interactive web based solution.\n",
      "\n",
      "Used data types like dictionaries, tuples and object -concepts based inheritance features for making complex algorithms of networks.\n",
      "\n",
      "Designed and developed the UI of the website using HTML, XHTML, AJAX, CSS and JavaScript.\n",
      "\n",
      "Expertise in client scripting languages like JavaScript, JQuery, JSON, DOJO, bootstrap, Angular.js.\n",
      "\n",
      "Designed and managed API system deployment using fast http server and Amazon AWS architecture\n",
      "\n",
      "Worked on Python Open stack API’s.\n",
      "\n",
      "Carried out various mathematical operations for calculation purpose using python libraries.\n",
      "\n",
      "Managed large datasets using Panda data frames and MySQL.\n",
      "\n",
      "Worked with JSON based REST Web services.\n",
      "\n",
      "Performed testing using Django’s Test Module.\n",
      "\n",
      "Creating unit test/regression test framework for working/new code.\n",
      "\n",
      "Using Subversion version control tool to coordinate team-development.\n",
      "\n",
      "Environment: Python, XML, Java, MySQL, Apache, CSS, HTML, JavaScript, Shell Scripts, Linux and Windows.\n",
      "\n",
      "2.) Python Developer\n",
      "\n",
      "Techwave Consulting Inc  – January 2015 to October 2015\n",
      "\n",
      "Responsibilities:\n",
      "\n",
      "Developed Views and Templates with Django view, controller and template language to create a user-friendly website interface.\n",
      "\n",
      "Configured the Django admin site, dashboard and created a custom Django dashboard for end users with custom look and feel.\n",
      "\n",
      "Used Python for XML, JSON processing, data exchange and business logic implementation.\n",
      "\n",
      "Created UI using JavaScript and HTML5. Designed and developed data management system using MongoDB.\n",
      "\n",
      "Used Python scripts to update the content in database and manipulate files.\n",
      "\n",
      "Proficient in Software Design and Development with a solid background in developing.\n",
      "\n",
      "Environment: Python, XML, MySQL, Apache, CSS, HTML, JavaScript, Shell Scripts, Linux and Windows.\n",
      "\n",
      "ADDITIONAL INFORMATION\n",
      "\n",
      "Languages Python, PHP, Java, C++, Shell scripting\n",
      "\n",
      "Python Framework Django, Pandas, Numpy, Scipy, Matplotlib, Seaborn, TensorFlow, Scikit-Learn, Pytorch.\n",
      "\n",
      "Databases MS SQL, MySQL, Oracle, PostgreSQL\n",
      "\n",
      "Web Technologies XML, CSS, HTML 5, JavaScript, JQuery, MVC 3, Bootstrap, AJAX, angular 2, PHP\n",
      "\n",
      "IDE Visual studio, PyCharm, Eclipse, MyEclipse\n"
     ]
    }
   ],
   "source": [
    "print(resume)"
   ]
  },
  {
   "cell_type": "code",
   "execution_count": 11,
   "metadata": {},
   "outputs": [],
   "source": [
    "job_description = docx2txt.process('jobdescription.docx')"
   ]
  },
  {
   "cell_type": "code",
   "execution_count": 12,
   "metadata": {},
   "outputs": [
    {
     "name": "stdout",
     "output_type": "stream",
     "text": [
      "Minimum qualifications:\n",
      "\n",
      "Bachelor’s degree in Computer Science or a Science, Technology, Engineering, Mathematics field, or equivalent practical experience.\n",
      "\n",
      "1 year of experience with software development in one or more programming languages (e.g., Python, C, C++, Java, JavaScript).\n",
      "\n",
      "1 year of experience with data structures or algorithms.\n",
      "\n",
      "Experience with Android framework and Android application development.\n",
      "\n",
      "Preferred qualifications:\n",
      "\n",
      "Master's degree or PhD in Computer Science or a related technical field.\n",
      "\n",
      "1 year of experience with iOS or Android application development.\n",
      "\n",
      "1 year of experience with performance, large scale systems data analysis, visualization tools, and/or debugging.\n",
      "\n",
      "Experience developing accessible technologies.\n",
      "\n",
      "Experience working with Kotlin.\n",
      "\n",
      "Knowledge of the Android software development kit (SDK) performance tools and optimization techniques.\n",
      "\n",
      "About the job\n",
      "\n",
      "Google's software engineers develop the next-generation technologies that change how billions of users connect, explore, and interact with information and one another. Our products need to handle information at massive scale, and extend well beyond web search. We're looking for engineers who bring fresh ideas from all areas, including information retrieval, distributed computing, large-scale system design, networking and data storage, security, artificial intelligence, natural language processing, UI design and mobile; the list goes on and is growing every day. As a software engineer, you will work on a specific project critical to Google’s needs with opportunities to switch teams and projects as you and our fast-paced business grow and evolve. We need our engineers to be versatile, display leadership qualities and be enthusiastic to take on new problems across the full-stack as we continue to push technology forward.\n",
      "\n",
      "With your technical expertise you will manage project priorities, deadlines, and deliverables. You will design, develop, test, deploy, maintain, and enhance software solutions.\n",
      "\n",
      "As a Software Engineer ll, you will design and develop compelling features by collaborating with product/business, UX, data scientists, backend, and other customer engineers. You will work with a small cross-functional team that oversees an area while getting the benefits of working in a larger team (e.g., great code quality norms, wide view, and impact on the larger product).\n",
      "\n",
      "“My internet is too fast!” ...said no one, ever. Google Fiber’s mission is to deliver abundant internet on networks that are always fast and always open with products that are easy to understand and clearly priced. We believe that customers deserve a better internet experience and everything we do is focused on providing just that. On our team, you’ll work in a fast-paced environment that’s challenging the status quo in the Internet industry.\n",
      "\n",
      "Responsibilities\n",
      "\n",
      "Design and implement Android app features with input from UX designers and Product teams.\n",
      "\n",
      "Debug production issues and help fix them.\n",
      "\n",
      "Optimize existing functionality and perform detailed data analysis in service of the team goals.\n",
      "\n",
      "Minimum qualifications:\n",
      "\n",
      "Bachelor’s degree in Computer Science or a Science, Technology, Engineering, Mathematics field, or equivalent practical experience.\n",
      "\n",
      "1 year of experience with software development in one or more programming languages (e.g., Python, C, C++, Java, JavaScript).\n",
      "\n",
      "1 year of experience with data structures or algorithms.\n",
      "\n",
      "Experience with Android framework and Android application development.\n",
      "\n",
      "Preferred qualifications:\n",
      "\n",
      "Master's degree or PhD in Computer Science or a related technical field.\n",
      "\n",
      "1 year of experience with iOS or Android application development.\n",
      "\n",
      "1 year of experience with performance, large scale systems data analysis, visualization tools, and/or debugging.\n",
      "\n",
      "Experience developing accessible technologies.\n",
      "\n",
      "Experience working with Kotlin.\n",
      "\n",
      "Knowledge of the Android software development kit (SDK) performance tools and optimization techniques.\n",
      "\n",
      "About the job\n",
      "\n",
      "Google's software engineers develop the next-generation technologies that change how billions of users connect, explore, and interact with information and one another. Our products need to handle information at massive scale, and extend well beyond web search. We're looking for engineers who bring fresh ideas from all areas, including information retrieval, distributed computing, large-scale system design, networking and data storage, security, artificial intelligence, natural language processing, UI design and mobile; the list goes on and is growing every day. As a software engineer, you will work on a specific project critical to Google’s needs with opportunities to switch teams and projects as you and our fast-paced business grow and evolve. We need our engineers to be versatile, display leadership qualities and be enthusiastic to take on new problems across the full-stack as we continue to push technology forward.\n",
      "\n",
      "With your technical expertise you will manage project priorities, deadlines, and deliverables. You will design, develop, test, deploy, maintain, and enhance software solutions.\n",
      "\n",
      "As a Software Engineer ll, you will design and develop compelling features by collaborating with product/business, UX, data scientists, backend, and other customer engineers. You will work with a small cross-functional team that oversees an area while getting the benefits of working in a larger team (e.g., great code quality norms, wide view, and impact on the larger product).\n",
      "\n",
      "“My internet is too fast!” ...said no one, ever. Google Fiber’s mission is to deliver abundant internet on networks that are always fast and always open with products that are easy to understand and clearly priced. We believe that customers deserve a better internet experience and everything we do is focused on providing just that. On our team, you’ll work in a fast-paced environment that’s challenging the status quo in the Internet industry.\n",
      "\n",
      "Responsibilities\n",
      "\n",
      "Design and implement Android app features with input from UX designers and Product teams.\n",
      "\n",
      "Debug production issues and help fix them.\n",
      "\n",
      "Optimize existing functionality and perform detailed data analysis in service of the team goals.\n"
     ]
    }
   ],
   "source": [
    "print(job_description)"
   ]
  },
  {
   "cell_type": "code",
   "execution_count": 13,
   "metadata": {},
   "outputs": [],
   "source": [
    "text = [resume, job_description]"
   ]
  },
  {
   "cell_type": "code",
   "execution_count": 14,
   "metadata": {},
   "outputs": [],
   "source": [
    "from sklearn.feature_extraction.text import CountVectorizer"
   ]
  },
  {
   "cell_type": "code",
   "execution_count": 15,
   "metadata": {},
   "outputs": [],
   "source": [
    "cv = CountVectorizer()\n",
    "count_matrix = cv.fit_transform(text)"
   ]
  },
  {
   "cell_type": "code",
   "execution_count": 17,
   "metadata": {},
   "outputs": [
    {
     "name": "stdout",
     "output_type": "stream",
     "text": [
      "\n",
      "Similirity scores \n",
      "[[1.         0.59028603]\n",
      " [0.59028603 1.        ]]\n"
     ]
    }
   ],
   "source": [
    "from sklearn.metrics.pairwise import cosine_similarity\n",
    "print('\\nSimilirity scores ')\n",
    "print(cosine_similarity(count_matrix))"
   ]
  },
  {
   "cell_type": "code",
   "execution_count": 18,
   "metadata": {},
   "outputs": [
    {
     "name": "stdout",
     "output_type": "stream",
     "text": [
      "59.03\n"
     ]
    }
   ],
   "source": [
    "match_percentage = round(cosine_similarity(count_matrix)[0][1] * 100, 2)\n",
    "\n",
    "print(match_percentage)"
   ]
  },
  {
   "cell_type": "code",
   "execution_count": null,
   "metadata": {},
   "outputs": [],
   "source": []
  }
 ],
 "metadata": {
  "kernelspec": {
   "display_name": "Python 3",
   "language": "python",
   "name": "python3"
  },
  "language_info": {
   "codemirror_mode": {
    "name": "ipython",
    "version": 3
   },
   "file_extension": ".py",
   "mimetype": "text/x-python",
   "name": "python",
   "nbconvert_exporter": "python",
   "pygments_lexer": "ipython3",
   "version": "3.7.6"
  }
 },
 "nbformat": 4,
 "nbformat_minor": 4
}
